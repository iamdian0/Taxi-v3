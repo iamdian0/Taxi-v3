{
  "nbformat": 4,
  "nbformat_minor": 0,
  "metadata": {
    "kernelspec": {
      "display_name": "Python 3",
      "language": "python",
      "name": "python3"
    },
    "language_info": {
      "codemirror_mode": {
        "name": "ipython",
        "version": 3
      },
      "file_extension": ".py",
      "mimetype": "text/x-python",
      "name": "python",
      "nbconvert_exporter": "python",
      "pygments_lexer": "ipython3",
      "version": "3.6.8"
    },
    "colab": {
      "name": "P1_submission.ipynb",
      "provenance": [],
      "collapsed_sections": [],
      "include_colab_link": true
    },
    "widgets": {
      "application/vnd.jupyter.widget-state+json": {
        "2550038c973a413694efb8a4cd109533": {
          "model_module": "@jupyter-widgets/controls",
          "model_name": "HBoxModel",
          "state": {
            "_view_name": "HBoxView",
            "_dom_classes": [],
            "_model_name": "HBoxModel",
            "_view_module": "@jupyter-widgets/controls",
            "_model_module_version": "1.5.0",
            "_view_count": null,
            "_view_module_version": "1.5.0",
            "box_style": "",
            "layout": "IPY_MODEL_f64013e08fe9496abb85069cd6d8017a",
            "_model_module": "@jupyter-widgets/controls",
            "children": [
              "IPY_MODEL_0073afd7a7e6461f9ac81b57a9473a56",
              "IPY_MODEL_fe39a49fbb4a4dfaa459ebdf1b6ebed2"
            ]
          }
        },
        "f64013e08fe9496abb85069cd6d8017a": {
          "model_module": "@jupyter-widgets/base",
          "model_name": "LayoutModel",
          "state": {
            "_view_name": "LayoutView",
            "grid_template_rows": null,
            "right": null,
            "justify_content": null,
            "_view_module": "@jupyter-widgets/base",
            "overflow": null,
            "_model_module_version": "1.2.0",
            "_view_count": null,
            "flex_flow": null,
            "width": null,
            "min_width": null,
            "border": null,
            "align_items": null,
            "bottom": null,
            "_model_module": "@jupyter-widgets/base",
            "top": null,
            "grid_column": null,
            "overflow_y": null,
            "overflow_x": null,
            "grid_auto_flow": null,
            "grid_area": null,
            "grid_template_columns": null,
            "flex": null,
            "_model_name": "LayoutModel",
            "justify_items": null,
            "grid_row": null,
            "max_height": null,
            "align_content": null,
            "visibility": null,
            "align_self": null,
            "height": null,
            "min_height": null,
            "padding": null,
            "grid_auto_rows": null,
            "grid_gap": null,
            "max_width": null,
            "order": null,
            "_view_module_version": "1.2.0",
            "grid_template_areas": null,
            "object_position": null,
            "object_fit": null,
            "grid_auto_columns": null,
            "margin": null,
            "display": null,
            "left": null
          }
        },
        "0073afd7a7e6461f9ac81b57a9473a56": {
          "model_module": "@jupyter-widgets/controls",
          "model_name": "FloatProgressModel",
          "state": {
            "_view_name": "ProgressView",
            "style": "IPY_MODEL_1587c0d296d441ee8eb5d293326f69f1",
            "_dom_classes": [],
            "description": "100%",
            "_model_name": "FloatProgressModel",
            "bar_style": "success",
            "max": 5000,
            "_view_module": "@jupyter-widgets/controls",
            "_model_module_version": "1.5.0",
            "value": 5000,
            "_view_count": null,
            "_view_module_version": "1.5.0",
            "orientation": "horizontal",
            "min": 0,
            "description_tooltip": null,
            "_model_module": "@jupyter-widgets/controls",
            "layout": "IPY_MODEL_dc342e58a45445db864b6a66b797bfcb"
          }
        },
        "fe39a49fbb4a4dfaa459ebdf1b6ebed2": {
          "model_module": "@jupyter-widgets/controls",
          "model_name": "HTMLModel",
          "state": {
            "_view_name": "HTMLView",
            "style": "IPY_MODEL_d6e30891266841f1afe8444d099ae450",
            "_dom_classes": [],
            "description": "",
            "_model_name": "HTMLModel",
            "placeholder": "​",
            "_view_module": "@jupyter-widgets/controls",
            "_model_module_version": "1.5.0",
            "value": " 5000/5000 [10:58&lt;00:00,  7.59it/s]",
            "_view_count": null,
            "_view_module_version": "1.5.0",
            "description_tooltip": null,
            "_model_module": "@jupyter-widgets/controls",
            "layout": "IPY_MODEL_2cad1622c0cf42b2844609c5068873ff"
          }
        },
        "1587c0d296d441ee8eb5d293326f69f1": {
          "model_module": "@jupyter-widgets/controls",
          "model_name": "ProgressStyleModel",
          "state": {
            "_view_name": "StyleView",
            "_model_name": "ProgressStyleModel",
            "description_width": "initial",
            "_view_module": "@jupyter-widgets/base",
            "_model_module_version": "1.5.0",
            "_view_count": null,
            "_view_module_version": "1.2.0",
            "bar_color": null,
            "_model_module": "@jupyter-widgets/controls"
          }
        },
        "dc342e58a45445db864b6a66b797bfcb": {
          "model_module": "@jupyter-widgets/base",
          "model_name": "LayoutModel",
          "state": {
            "_view_name": "LayoutView",
            "grid_template_rows": null,
            "right": null,
            "justify_content": null,
            "_view_module": "@jupyter-widgets/base",
            "overflow": null,
            "_model_module_version": "1.2.0",
            "_view_count": null,
            "flex_flow": null,
            "width": null,
            "min_width": null,
            "border": null,
            "align_items": null,
            "bottom": null,
            "_model_module": "@jupyter-widgets/base",
            "top": null,
            "grid_column": null,
            "overflow_y": null,
            "overflow_x": null,
            "grid_auto_flow": null,
            "grid_area": null,
            "grid_template_columns": null,
            "flex": null,
            "_model_name": "LayoutModel",
            "justify_items": null,
            "grid_row": null,
            "max_height": null,
            "align_content": null,
            "visibility": null,
            "align_self": null,
            "height": null,
            "min_height": null,
            "padding": null,
            "grid_auto_rows": null,
            "grid_gap": null,
            "max_width": null,
            "order": null,
            "_view_module_version": "1.2.0",
            "grid_template_areas": null,
            "object_position": null,
            "object_fit": null,
            "grid_auto_columns": null,
            "margin": null,
            "display": null,
            "left": null
          }
        },
        "d6e30891266841f1afe8444d099ae450": {
          "model_module": "@jupyter-widgets/controls",
          "model_name": "DescriptionStyleModel",
          "state": {
            "_view_name": "StyleView",
            "_model_name": "DescriptionStyleModel",
            "description_width": "",
            "_view_module": "@jupyter-widgets/base",
            "_model_module_version": "1.5.0",
            "_view_count": null,
            "_view_module_version": "1.2.0",
            "_model_module": "@jupyter-widgets/controls"
          }
        },
        "2cad1622c0cf42b2844609c5068873ff": {
          "model_module": "@jupyter-widgets/base",
          "model_name": "LayoutModel",
          "state": {
            "_view_name": "LayoutView",
            "grid_template_rows": null,
            "right": null,
            "justify_content": null,
            "_view_module": "@jupyter-widgets/base",
            "overflow": null,
            "_model_module_version": "1.2.0",
            "_view_count": null,
            "flex_flow": null,
            "width": null,
            "min_width": null,
            "border": null,
            "align_items": null,
            "bottom": null,
            "_model_module": "@jupyter-widgets/base",
            "top": null,
            "grid_column": null,
            "overflow_y": null,
            "overflow_x": null,
            "grid_auto_flow": null,
            "grid_area": null,
            "grid_template_columns": null,
            "flex": null,
            "_model_name": "LayoutModel",
            "justify_items": null,
            "grid_row": null,
            "max_height": null,
            "align_content": null,
            "visibility": null,
            "align_self": null,
            "height": null,
            "min_height": null,
            "padding": null,
            "grid_auto_rows": null,
            "grid_gap": null,
            "max_width": null,
            "order": null,
            "_view_module_version": "1.2.0",
            "grid_template_areas": null,
            "object_position": null,
            "object_fit": null,
            "grid_auto_columns": null,
            "margin": null,
            "display": null,
            "left": null
          }
        }
      }
    }
  },
  "cells": [
    {
      "cell_type": "markdown",
      "metadata": {
        "id": "view-in-github",
        "colab_type": "text"
      },
      "source": [
        "<a href=\"https://colab.research.google.com/github/iamdian0/Taxi-v3/blob/main/P1_submission.ipynb\" target=\"_parent\"><img src=\"https://colab.research.google.com/assets/colab-badge.svg\" alt=\"Open In Colab\"/></a>"
      ]
    },
    {
      "cell_type": "markdown",
      "metadata": {
        "id": "KJkRJWp_iSxV"
      },
      "source": [
        "# P1: Solve the OpenAI Gym [Taxi V3](https://gym.openai.com/envs/Taxi-v3/) Environment\n",
        "---"
      ]
    },
    {
      "cell_type": "markdown",
      "metadata": {
        "id": "nn2DHS1HiSxb"
      },
      "source": [
        "## Introduction\n",
        "[OpenAI Gym](https://gym.openai.com/docs/) is a framework that provides RL environments of varying complexity with the same standard API making it easy to develop and benchmark RL algorithms. The [Taxi-V3](https://gym.openai.com/envs/Taxi-v3/) environmnet present a simple, text environment where actions and state (observations) are both discrete. "
      ]
    },
    {
      "cell_type": "code",
      "metadata": {
        "id": "1sYbduEAiSxc"
      },
      "source": [
        "import gym"
      ],
      "execution_count": null,
      "outputs": []
    },
    {
      "cell_type": "markdown",
      "metadata": {
        "id": "w3961Sk5iSxc"
      },
      "source": [
        "The `gym.make()` API can be used to spawn any of the available environments by passing its full name."
      ]
    },
    {
      "cell_type": "code",
      "metadata": {
        "id": "qoF3qhqmiSxc"
      },
      "source": [
        "taxi = gym.make('Taxi-v3')"
      ],
      "execution_count": null,
      "outputs": []
    },
    {
      "cell_type": "markdown",
      "metadata": {
        "id": "4mXEhFEZiSxd"
      },
      "source": [
        "The Taxi environment has 500 states and 6 possible actions."
      ]
    },
    {
      "cell_type": "code",
      "metadata": {
        "id": "ekHNMPHBiSxd",
        "colab": {
          "base_uri": "https://localhost:8080/"
        },
        "outputId": "1ef5e07a-58eb-49f9-9845-bff98da8b008"
      },
      "source": [
        "taxi.action_space"
      ],
      "execution_count": null,
      "outputs": [
        {
          "output_type": "execute_result",
          "data": {
            "text/plain": [
              "Discrete(6)"
            ]
          },
          "metadata": {
            "tags": []
          },
          "execution_count": 90
        }
      ]
    },
    {
      "cell_type": "code",
      "metadata": {
        "id": "66FirzkTiSxe",
        "colab": {
          "base_uri": "https://localhost:8080/"
        },
        "outputId": "d02e0840-efe6-4536-bd0b-fadf6deec738"
      },
      "source": [
        "taxi.observation_space"
      ],
      "execution_count": null,
      "outputs": [
        {
          "output_type": "execute_result",
          "data": {
            "text/plain": [
              "Discrete(500)"
            ]
          },
          "metadata": {
            "tags": []
          },
          "execution_count": 91
        }
      ]
    },
    {
      "cell_type": "markdown",
      "metadata": {
        "id": "S5Ys32SBiSxe"
      },
      "source": [
        "The task and reward structure are described in the [documentation](https://github.com/openai/gym/blob/a5a6ae6bc0a5cfc0ff1ce9be723d59593c165022/gym/envs/toy_text/taxi.py#L25)"
      ]
    },
    {
      "cell_type": "code",
      "metadata": {
        "id": "Ec80Iv7DiSxe",
        "colab": {
          "base_uri": "https://localhost:8080/"
        },
        "outputId": "8c2da7d6-e11d-4679-c2c3-8a742fd58b69"
      },
      "source": [
        "taxi.reset()\n",
        "taxi.render()"
      ],
      "execution_count": null,
      "outputs": [
        {
          "output_type": "stream",
          "text": [
            "+---------+\n",
            "|R: | : :\u001b[35mG\u001b[0m|\n",
            "| : | : : |\n",
            "| : :\u001b[43m \u001b[0m: : |\n",
            "| | : | : |\n",
            "|\u001b[34;1mY\u001b[0m| : |B: |\n",
            "+---------+\n",
            "\n"
          ],
          "name": "stdout"
        }
      ]
    },
    {
      "cell_type": "markdown",
      "metadata": {
        "id": "xNN0f9ZJiSxf"
      },
      "source": [
        "## Submission\n",
        "- Submit your solution as a Jupyter notebook. \n",
        "- Ensure that all cells in the notebook have been executed and the output is showing\n",
        "- Ensure that your solution consistently reaches the average cumulative reward defined in the rubric (link below)\n",
        "- Post your solution on Github and share the link to your commit as a direct message in Slack"
      ]
    },
    {
      "cell_type": "markdown",
      "metadata": {
        "id": "-3jIyb5siSxf"
      },
      "source": [
        "## Evaluation\n",
        "The goal of the project is to get an average (cumulative) reward of 9.0 or more over 100 episodes. To pass the project, you must meet all the requirments in the project [rubric](https://github.com/KnowchowHQ/rl-in-action/blob/master/C1-RL-Intro/W3OH/P1-rubric.md)"
      ]
    },
    {
      "cell_type": "markdown",
      "metadata": {
        "id": "KjKj9QqJNx1I"
      },
      "source": [
        "\n",
        "\n",
        "---\n",
        "\n",
        "\n",
        "\n",
        "---\n",
        "\n",
        "\n",
        "\n",
        "---\n",
        "\n",
        "\n",
        "# Submission Starts From Here"
      ]
    },
    {
      "cell_type": "markdown",
      "metadata": {
        "id": "R2_DU1sjlvNv"
      },
      "source": [
        "## DiscreteEnv Description\n",
        "Has the following members\n",
        "\n",
        "    - nS: number of states\n",
        "    - nA: number of actions\n",
        "    - P: transitions (*)\n",
        "    - isd: initial state distribution (**)\n",
        "    (*) dictionary of lists, where\n",
        "      P[s][a] == [(probability, nextstate, reward, done), ...]\n",
        "    (**) list or array of length nS\n",
        "\n",
        "Has following methods:\n",
        "\n",
        "    - __init__(): initialize the object\n",
        "    - seed(): initialize a random seed\n",
        "    - reset(): reset the state based on initial state distribution\n",
        "    - step(): take one step based on action, return a tuple of (state, reward, done flag, probability (probability of ending in the returned state by taking the specified action, i.e. slip probability is supported with step function, but in our case, they are all single action to single state mapping))."
      ]
    },
    {
      "cell_type": "markdown",
      "metadata": {
        "id": "Zi8A3Gtel2AC"
      },
      "source": [
        "## Taxi V3 Description\n",
        "Has following members:\n",
        "\n",
        "    - desc: description of the MAP (static) used for Taxi-v3\n",
        "    - locs: location coordinates for RGBY markers (static)\n",
        "    - s: current state of the object\n",
        "    - lastaction: last action from step function\n",
        "\n",
        "  Has following methods:\n",
        "\n",
        "    - __init__(): initialize the object\n",
        "    - encode(): encode the taxi/passenger/destination locations into single number state representation\n",
        "    - decode(): decode the single number state representation into taxi/passenger/destination locations\n",
        "    - render(): print an ASCII map graph representation of current state\n",
        "  "
      ]
    },
    {
      "cell_type": "markdown",
      "metadata": {
        "id": "piCpVfa5l8ep"
      },
      "source": [
        "## Taxi V3 Environment Description\n",
        "    The Taxi Problem\n",
        "    from \"Hierarchical Reinforcement Learning with the MAXQ Value Function Decomposition\"\n",
        "    by Tom Dietterich\n",
        "    \n",
        "    Description:\n",
        "    There are four designated locations in the grid world indicated by R(ed), G(reen), Y(ellow), and B(lue). When the episode starts, the taxi starts off at a random square and the passenger is at a random location. The taxi drives to the passenger's location, picks up the passenger, drives to the passenger's destination (another one of the four specified locations), and then drops off the passenger. Once the passenger is dropped off, the episode ends.\n",
        "    \n",
        "    Observations:\n",
        "    There are 500 discrete states since there are 25 taxi positions, 5 possible locations of the passenger (including the case when the passenger is in the taxi), and 4 destination locations. \n",
        "    Passenger locations:\n",
        "    - 0: R(ed)\n",
        "    - 1: G(reen)\n",
        "    - 2: Y(ellow)\n",
        "    - 3: B(lue)\n",
        "    - 4: in taxi\n",
        "    Destinations:\n",
        "    - 0: R(ed)\n",
        "    - 1: G(reen)\n",
        "    - 2: Y(ellow)\n",
        "    - 3: B(lue)\n",
        "    \n",
        "    Actions:\n",
        "    There are 6 discrete deterministic actions:\n",
        "    - 0: move south\n",
        "    - 1: move north\n",
        "    - 2: move east\n",
        "    - 3: move west\n",
        "    - 4: pickup passenger\n",
        "    - 5: drop off passenger\n",
        "    \n",
        "    Rewards:\n",
        "    There is a default per-step reward of -1,\n",
        "    except for delivering the passenger, which is +20,\n",
        "    or executing \"pickup\" and \"drop-off\" actions illegally, which is -10.\n",
        "    \n",
        "    Rendering:\n",
        "    - blue: passenger\n",
        "    - magenta: destination\n",
        "    - yellow: empty taxi\n",
        "    - green: full taxi\n",
        "    - other letters (R, G, Y and B): locations for passengers and destinations\n",
        "    \n",
        "    state space is represented by:\n",
        "        (taxi_row, taxi_col, passenger_location, destination)"
      ]
    },
    {
      "cell_type": "markdown",
      "metadata": {
        "id": "S_vhk0QNmDt4"
      },
      "source": [
        "\n",
        "\n",
        "---\n",
        "\n",
        "\n",
        "## Start of Training"
      ]
    },
    {
      "cell_type": "markdown",
      "metadata": {
        "id": "_fcHA7nXOTZZ"
      },
      "source": [
        "## Initial Setup"
      ]
    },
    {
      "cell_type": "code",
      "metadata": {
        "id": "8f2kjMiTNwXx"
      },
      "source": [
        "from tqdm.notebook import tqdm\n",
        "import numpy as np\n",
        "import pandas as pd\n",
        "import copy\n",
        "from collections import deque\n",
        "from google.colab import drive\n",
        "from datetime import datetime\n",
        "import matplotlib.pyplot as plt\n",
        "\n",
        "import gym\n",
        "taxi = gym.make('Taxi-v3')"
      ],
      "execution_count": null,
      "outputs": []
    },
    {
      "cell_type": "markdown",
      "metadata": {
        "id": "VIHpeJm8O2HG"
      },
      "source": [
        "## Helper Functions\n",
        "- pretty_print_policy(): customized pretty print function\n",
        "- epsilon_greedy_action_from_Q(): generate espilon greedy action\n",
        "- derive_terminal_states(): derive terminal states for easy use\n",
        "- greedy_policy_from_returns_tbl(): generate policy from return table\n",
        "- BFS_reward(): optimal BFS solution\n",
        "- single_test_compare(): single test with comparison to BFS optimal\n",
        "- n_episodes_test_compare(): test n episodes\n",
        "\n"
      ]
    },
    {
      "cell_type": "code",
      "metadata": {
        "id": "tCNOB6qJO9sQ"
      },
      "source": [
        "### customized pretty print function ###\n",
        "def pretty_print_policy(policy, taxi=None, drop_off=False, render=True):\n",
        "    if taxi is None:\n",
        "      taxi = gym.make('Taxi-v3')\n",
        "    if render:\n",
        "      taxi.render()\n",
        "\n",
        "    taxi_row, taxi_col, pass_idx, dest_idx = taxi.decode(taxi.s)\n",
        "    if drop_off: pass_idx = 4\n",
        "\n",
        "    direction_repr = {1:' 🡑 ', 2:' 🡒 ', 3:' 🡐 ', 0:' 🡓 ', None:' ⬤ ', 4:' O ', 5:' X '}\n",
        "\n",
        "    for row in range(5):\n",
        "        for col in range(5):\n",
        "            state = taxi.encode(row, col, pass_idx, dest_idx)\n",
        "            print(direction_repr[policy[state]],end='')\n",
        "        print()"
      ],
      "execution_count": null,
      "outputs": []
    },
    {
      "cell_type": "code",
      "metadata": {
        "id": "uh3ox3wuPI6c"
      },
      "source": [
        "### generate espilon greedy action ###\n",
        "def epsilon_greedy_action_from_Q(Q, state, epsilon):\n",
        "    actions = Q.columns\n",
        "    action_probs = np.asarray([epsilon/len(actions)]*len(actions),dtype=np.float)\n",
        "    \n",
        "    greedy_action_index = np.argmax(Q.loc[state].values)\n",
        "    action_probs[greedy_action_index] += 1-epsilon\n",
        "\n",
        "    epsilon_greedy_action = np.random.choice(Q.columns,p=action_probs)\n",
        "    \n",
        "    return epsilon_greedy_action"
      ],
      "execution_count": null,
      "outputs": []
    },
    {
      "cell_type": "code",
      "metadata": {
        "id": "fZUZ8AzjPaEM"
      },
      "source": [
        "### derive terminal states for easy use ###\n",
        "def derive_terminal_states(taxi):\n",
        "  terminal_states = []\n",
        "  for s in taxi.P:\n",
        "    for a in taxi.P[s]:\n",
        "      if taxi.P[s][a][0][3]:\n",
        "        terminal_states.append(taxi.P[s][a][0][1])\n",
        "  return terminal_states"
      ],
      "execution_count": null,
      "outputs": []
    },
    {
      "cell_type": "code",
      "metadata": {
        "id": "Img4OMFhPtDf"
      },
      "source": [
        "### generate policy from return table ###\n",
        "def greedy_policy_from_returns_tbl(table):\n",
        "    policy = {s:None for s in table.index }\n",
        "    for state in table.index:\n",
        "        if state not in terminal_states:\n",
        "            greedy_action = table.loc[state].idxmax()\n",
        "            policy[state] = greedy_action\n",
        "            \n",
        "    return policy"
      ],
      "execution_count": null,
      "outputs": []
    },
    {
      "cell_type": "code",
      "metadata": {
        "id": "kQOCkPGmfcRV"
      },
      "source": [
        "### optimal BFS solution ###\n",
        "def BFS_reward(taxiloc, passloc, destloc):\n",
        "  M=N=5\n",
        "  ban_transitions = {((4,0),(4,1)),((4,1),(4,0)), ((3,0),(3,1)),((3,1),(3,0)), ((4,2),(4,3)),((4,3),(4,2)), ((3,2),(3,3)),((3,3),(3,2)), ((1,1),(1,2)),((1,2),(1,1)), ((0,1),(0,2)),((0,2),(0,1))}\n",
        "  n_step = 0\n",
        "\n",
        "  ti,tj = taxiloc\n",
        "  pi,pj = passloc\n",
        "  di,dj = destloc\n",
        "  q = deque()\n",
        "  visited = set()\n",
        "  q.append([ti,tj,0])\n",
        "  visited.add((ti,tj))\n",
        "  while q:\n",
        "    i,j,s = q.popleft()\n",
        "    if (i,j)==(pi,pj): \n",
        "      n_step += s\n",
        "      break\n",
        "    for ii,jj in [[i+1,j], [i-1,j], [i,j+1], [i,j-1]]:\n",
        "      if (0<=ii<M and 0<=jj<N and (ii,jj) not in visited and ((i,j),(ii,jj)) not in ban_transitions):\n",
        "        q.append([ii,jj,s+1])\n",
        "        visited.add((ii,jj))\n",
        "\n",
        "  q = deque()\n",
        "  visited = set()\n",
        "  q.append([pi,pj,0])\n",
        "  visited.add((pi,pj))\n",
        "  while q:\n",
        "    i,j,s = q.popleft()\n",
        "    if (i,j)==(di,dj): \n",
        "      n_step += s\n",
        "      break\n",
        "    for ii,jj in [[i+1,j], [i-1,j], [i,j+1], [i,j-1]]:\n",
        "      if (0<=ii<M and 0<=jj<N and (ii,jj) not in visited and ((i,j),(ii,jj)) not in ban_transitions):\n",
        "        q.append([ii,jj,s+1])\n",
        "        visited.add((ii,jj))\n",
        "\n",
        "  return 20-n_step-1"
      ],
      "execution_count": null,
      "outputs": []
    },
    {
      "cell_type": "code",
      "metadata": {
        "id": "9uRiuC7gfoz6"
      },
      "source": [
        "### single test with comparison to BFS optimal, render=True will render a sequence of taxi movements ###\n",
        "def single_test_compare(policy, text=False, render=False, taxi_i=None, compare=False):\n",
        "  if taxi_i is None:\n",
        "    taxi_t = gym.make('Taxi-v3')\n",
        "    taxi_t.reset()\n",
        "  else:\n",
        "    taxi_t = copy.deepcopy(taxi_i)\n",
        "    \n",
        "  if render: taxi_t.render()\n",
        "\n",
        "  state = taxi_t.s\n",
        "  \n",
        "  if compare:\n",
        "    taxi_t0 = copy.deepcopy(taxi_t)\n",
        "    locs = [(0, 0), (0, 4), (4, 0), (4, 3)]\n",
        "    ti, tj, pass_idx, dest_idx = taxi_t.decode(state)\n",
        "    pi,pj = locs[pass_idx] if pass_idx<4 else (ti,tj)\n",
        "    di,dj = locs[dest_idx]\n",
        "    optimal_reward = BFS_reward((ti,tj), (pi,pj), (di,dj))\n",
        "    if text: print(f'BFS optimal reward = {optimal_reward}')\n",
        "\n",
        "  actions = {1:' 🡑 ', 2:' 🡒 ', 3:' 🡐 ', 0:' 🡓 ', None:' ⬤ ', 4:' O ', 5:' X '}\n",
        "  done = False\n",
        "  max_step = 30\n",
        "  n_step = 0\n",
        "  reward_full = 0\n",
        "  bad = 0\n",
        "  if render: print('\\nActions based on policy table:')\n",
        "  while not done and n_step < max_step:\n",
        "    n_step += 1\n",
        "    \n",
        "    if text: print(f'action = {actions[policy_Q_Learning[state]]}')\n",
        "    state, reward, done, _ = taxi_t.step(policy_Q_Learning[state])\n",
        "    reward_full += reward\n",
        "\n",
        "    if render: taxi_t.render()\n",
        "  else:\n",
        "    if not done: bad = 1\n",
        "  \n",
        "  if text: print(f\"Full policy reward = {reward_full}\")\n",
        "\n",
        "  if compare and optimal_reward != reward_full:\n",
        "    return reward_full, bad, taxi_t0\n",
        "  else:\n",
        "    return reward_full, bad, None\n",
        "  "
      ],
      "execution_count": null,
      "outputs": []
    },
    {
      "cell_type": "code",
      "metadata": {
        "id": "ctODHqKhiZGP"
      },
      "source": [
        "### test n episodes ###\n",
        "### bad episodes refers to episodes that stuck in a possible loop beyond a maximum of 30 steps ###\n",
        "### non optimal taxi is a list of taxi instances that result in non optimal policies, and can be used for debugging and possibly a seperate dedicated training if needed, in practice I don't find this useful as the optimal policy is reached pretty quickly ###  \n",
        "def n_episodes_test_compare(policy, n=100, text=False, compare=False):\n",
        "  rewards = np.zeros(n)\n",
        "  total_bad = 0\n",
        "  non_optimal_taxi = []\n",
        "\n",
        "  for i in range(n):\n",
        "    reward, bad, t = single_test_compare(policy, compare=compare)\n",
        "    rewards[i] = reward\n",
        "    total_bad += bad\n",
        "\n",
        "    if t is not None:\n",
        "      non_optimal_taxi.append(t)\n",
        "\n",
        "  total_reward = sum(rewards)\n",
        "  if text: print(f'average reward = {total_reward/n}, bad episodes = {total_bad}, non optimal episodes = {len(non_optimal_taxi)}')\n",
        "  return total_reward/n, total_bad, non_optimal_taxi, rewards"
      ],
      "execution_count": null,
      "outputs": []
    },
    {
      "cell_type": "markdown",
      "metadata": {
        "id": "1m4ejOP7QGo9"
      },
      "source": [
        "## Main Q Learning Loop"
      ]
    },
    {
      "cell_type": "code",
      "metadata": {
        "colab": {
          "base_uri": "https://localhost:8080/",
          "height": 566,
          "referenced_widgets": [
            "2550038c973a413694efb8a4cd109533",
            "f64013e08fe9496abb85069cd6d8017a",
            "0073afd7a7e6461f9ac81b57a9473a56",
            "fe39a49fbb4a4dfaa459ebdf1b6ebed2",
            "1587c0d296d441ee8eb5d293326f69f1",
            "dc342e58a45445db864b6a66b797bfcb",
            "d6e30891266841f1afe8444d099ae450",
            "2cad1622c0cf42b2844609c5068873ff"
          ]
        },
        "id": "HU6LnSB6QKdJ",
        "outputId": "9d4c53bb-16ff-43a8-f27d-5df323a38896"
      },
      "source": [
        "### Q-learning ###\n",
        "Q = pd.DataFrame.from_dict({s:{a:0 for a in range(taxi.action_space.n)} for s in range(taxi.observation_space.n)}, orient='index')\n",
        "terminal_states = derive_terminal_states(taxi)\n",
        "\n",
        "HYPER_PARAMS = {}\n",
        "HYPER_PARAMS['gamma'] = 1.0\n",
        "n_episodes = 5000\n",
        "epsilon = 1\n",
        "min_epsilon = 0.1\n",
        "epsilon_decay = 0.999\n",
        "\n",
        "### main turned hyper parameter ###\n",
        "alpha = 0.1\n",
        "\n",
        "non_optimal_taxi = []\n",
        "for i in tqdm(range(n_episodes)):\n",
        "  s0 = taxi.reset()\n",
        "  done = False\n",
        "\n",
        "  while not done:\n",
        "        a0 = epsilon_greedy_action_from_Q(Q,s0,epsilon)\n",
        "        s1, reward, done, _  = taxi.step(a0)\n",
        "        \n",
        "        Q.loc[s0,a0] += alpha*(reward + HYPER_PARAMS['gamma']*Q.loc[s1].max() - Q.loc[s0,a0])\n",
        "        s0 = s1\n",
        "  \n",
        "  epsilon *= epsilon_decay\n",
        "  epsilon = max(epsilon,min_epsilon)\n",
        "\n",
        "  ### monitoring 100 episode average reward for each 1000 training loop ###\n",
        "  ### bad episodes refers to episodes that stuck in a possible loop beyond a maximum of 30 steps ###\n",
        "  ### non optimal taxi is a list of taxi instances that result in non optimal policies, and can be used for debugging and possibly a seperate dedicated training if needed, in practice I don't find this useful as the optimal policy is reached pretty quickly ###  \n",
        "  if (i+1)%500==0:\n",
        "    print(f'\\nIteration {i+1}')\n",
        "    policy_Q_Learning = greedy_policy_from_returns_tbl(Q)\n",
        "    \n",
        "    ### n_episodes_test_compare with compare=True will test the episodes against an optimal BFS solution ###\n",
        "    ### in practice, this should not be done since \n",
        "    ###   1. we usually don't have a way to code optimal solution for many reinforced learning problems\n",
        "    ###   2. running optimal solution also increases the training time\n",
        "    avg_reward, n_bad_episodes, non_optimal_taxi, rewards = n_episodes_test_compare(policy_Q_Learning, text=True, n=100, compare=True)\n",
        "    \n",
        "policy_Q_Learning = greedy_policy_from_returns_tbl(Q)"
      ],
      "execution_count": null,
      "outputs": [
        {
          "output_type": "display_data",
          "data": {
            "application/vnd.jupyter.widget-view+json": {
              "model_id": "2550038c973a413694efb8a4cd109533",
              "version_minor": 0,
              "version_major": 2
            },
            "text/plain": [
              "HBox(children=(FloatProgress(value=0.0, max=5000.0), HTML(value='')))"
            ]
          },
          "metadata": {
            "tags": []
          }
        },
        {
          "output_type": "stream",
          "text": [
            "\n",
            "Iteration 500\n",
            "average reward = -27.83, bad episodes = 95, non optimal episodes = 95\n",
            "\n",
            "Iteration 1000\n",
            "average reward = -14.41, bad episodes = 61, non optimal episodes = 61\n",
            "\n",
            "Iteration 1500\n",
            "average reward = -1.47, bad episodes = 26, non optimal episodes = 26\n",
            "\n",
            "Iteration 2000\n",
            "average reward = 1.61, bad episodes = 17, non optimal episodes = 17\n",
            "\n",
            "Iteration 2500\n",
            "average reward = 6.49, bad episodes = 5, non optimal episodes = 5\n",
            "\n",
            "Iteration 3000\n",
            "average reward = 7.96, bad episodes = 1, non optimal episodes = 1\n",
            "\n",
            "Iteration 3500\n",
            "average reward = 8.22, bad episodes = 0, non optimal episodes = 0\n",
            "\n",
            "Iteration 4000\n",
            "average reward = 7.68, bad episodes = 0, non optimal episodes = 0\n",
            "\n",
            "Iteration 4500\n",
            "average reward = 7.75, bad episodes = 0, non optimal episodes = 0\n",
            "\n",
            "Iteration 5000\n",
            "average reward = 7.45, bad episodes = 0, non optimal episodes = 0\n",
            "\n"
          ],
          "name": "stdout"
        }
      ]
    },
    {
      "cell_type": "markdown",
      "metadata": {
        "id": "acbc2EPOkIC8"
      },
      "source": [
        "## Save/Load return table in Google Drive"
      ]
    },
    {
      "cell_type": "code",
      "metadata": {
        "id": "ypAHbQENuXaG"
      },
      "source": [
        "# Do NOT run\n",
        "#drive.mount('/content/drive')"
      ],
      "execution_count": null,
      "outputs": []
    },
    {
      "cell_type": "code",
      "metadata": {
        "id": "jSOnpZUM11Ed"
      },
      "source": [
        "# Do NOT run\n",
        "#Q.to_pickle(f'drive/My Drive/Colab Notebooks/Q.{datetime.now()}.pkl')"
      ],
      "execution_count": null,
      "outputs": []
    },
    {
      "cell_type": "code",
      "metadata": {
        "id": "jfQqlVoiksg0"
      },
      "source": [
        "# Do NOT run\n",
        "#file_name = 'drive/My Drive/Colab Notebooks/Q.2021-04-28 23:35:03.032067.pkl'\n",
        "#Q = pd.read_pickle(file_name)"
      ],
      "execution_count": null,
      "outputs": []
    },
    {
      "cell_type": "markdown",
      "metadata": {
        "id": "cSK1JmjUlAlU"
      },
      "source": [
        "## Quick Testing"
      ]
    },
    {
      "cell_type": "markdown",
      "metadata": {
        "id": "vxNIoQS2DGYr"
      },
      "source": [
        "- print policy table for pick up based on a given taxi"
      ]
    },
    {
      "cell_type": "code",
      "metadata": {
        "colab": {
          "base_uri": "https://localhost:8080/"
        },
        "id": "MwG6Gr5glm55",
        "outputId": "369c4ff6-26f5-4cf9-9bfc-bff89df3a632"
      },
      "source": [
        "taxi.reset()\n",
        "pretty_print_policy(policy_Q_Learning, taxi)"
      ],
      "execution_count": null,
      "outputs": [
        {
          "output_type": "stream",
          "text": [
            "+---------+\n",
            "|R: | : :G|\n",
            "| : | : : |\n",
            "| : : :\u001b[43m \u001b[0m: |\n",
            "| | : | : |\n",
            "|\u001b[35mY\u001b[0m| : |\u001b[34;1mB\u001b[0m: |\n",
            "+---------+\n",
            "\n",
            " 🡒  🡓  🡓  🡓  🡓 \n",
            " 🡒  🡓  🡓  🡓  🡐 \n",
            " 🡒  🡒  🡒  🡓  🡓 \n",
            " 🡑  🡑  🡑  🡓  🡐 \n",
            " 🡑  🡒  🡑  O  🡐 \n"
          ],
          "name": "stdout"
        }
      ]
    },
    {
      "cell_type": "markdown",
      "metadata": {
        "id": "I7q5YQZiDdnq"
      },
      "source": [
        "- print policy table for drop off (assuming passenger already picked up) based on a given taxi"
      ]
    },
    {
      "cell_type": "code",
      "metadata": {
        "colab": {
          "base_uri": "https://localhost:8080/"
        },
        "id": "rQX3h_0ODl1A",
        "outputId": "ff2464bc-774d-4825-ad0e-4c3a12b5f80b"
      },
      "source": [
        "pretty_print_policy(policy_Q_Learning, taxi, drop_off=True)"
      ],
      "execution_count": null,
      "outputs": [
        {
          "output_type": "stream",
          "text": [
            "+---------+\n",
            "|R: | : :G|\n",
            "| : | : : |\n",
            "| : : :\u001b[43m \u001b[0m: |\n",
            "| | : | : |\n",
            "|\u001b[35mY\u001b[0m| : |\u001b[34;1mB\u001b[0m: |\n",
            "+---------+\n",
            "\n",
            " 🡓  🡐  🡓  🡓  🡐 \n",
            " 🡓  🡐  🡓  🡐  🡐 \n",
            " 🡓  🡐  🡐  🡐  🡐 \n",
            " 🡓  🡑  🡐  🡑  🡐 \n",
            " X  🡑  🡑  🡑  🡐 \n"
          ],
          "name": "stdout"
        }
      ]
    },
    {
      "cell_type": "markdown",
      "metadata": {
        "id": "diCdwKUZDmpn"
      },
      "source": [
        "- below test shows a sequence of taxi actions based on trained policy table, we can visually verify the actions taken are optimal"
      ]
    },
    {
      "cell_type": "code",
      "metadata": {
        "colab": {
          "base_uri": "https://localhost:8080/"
        },
        "id": "Bh2yIlsbhlyC",
        "outputId": "c0b5a523-4b58-4548-9610-452f574641d0"
      },
      "source": [
        "single_test_compare(policy_Q_Learning, text=True, render=True, compare=True)"
      ],
      "execution_count": null,
      "outputs": [
        {
          "output_type": "stream",
          "text": [
            "+---------+\n",
            "|\u001b[35mR\u001b[0m: | : :G|\n",
            "| : | : : |\n",
            "| : : : : |\n",
            "| | : |\u001b[43m \u001b[0m: |\n",
            "|\u001b[34;1mY\u001b[0m| : |B: |\n",
            "+---------+\n",
            "\n",
            "BFS optimal reward = 9\n",
            "\n",
            "Actions based on policy table:\n",
            "action =  🡑 \n",
            "+---------+\n",
            "|\u001b[35mR\u001b[0m: | : :G|\n",
            "| : | : : |\n",
            "| : : :\u001b[43m \u001b[0m: |\n",
            "| | : | : |\n",
            "|\u001b[34;1mY\u001b[0m| : |B: |\n",
            "+---------+\n",
            "  (North)\n",
            "action =  🡐 \n",
            "+---------+\n",
            "|\u001b[35mR\u001b[0m: | : :G|\n",
            "| : | : : |\n",
            "| : :\u001b[43m \u001b[0m: : |\n",
            "| | : | : |\n",
            "|\u001b[34;1mY\u001b[0m| : |B: |\n",
            "+---------+\n",
            "  (West)\n",
            "action =  🡐 \n",
            "+---------+\n",
            "|\u001b[35mR\u001b[0m: | : :G|\n",
            "| : | : : |\n",
            "| :\u001b[43m \u001b[0m: : : |\n",
            "| | : | : |\n",
            "|\u001b[34;1mY\u001b[0m| : |B: |\n",
            "+---------+\n",
            "  (West)\n",
            "action =  🡐 \n",
            "+---------+\n",
            "|\u001b[35mR\u001b[0m: | : :G|\n",
            "| : | : : |\n",
            "|\u001b[43m \u001b[0m: : : : |\n",
            "| | : | : |\n",
            "|\u001b[34;1mY\u001b[0m| : |B: |\n",
            "+---------+\n",
            "  (West)\n",
            "action =  🡓 \n",
            "+---------+\n",
            "|\u001b[35mR\u001b[0m: | : :G|\n",
            "| : | : : |\n",
            "| : : : : |\n",
            "|\u001b[43m \u001b[0m| : | : |\n",
            "|\u001b[34;1mY\u001b[0m| : |B: |\n",
            "+---------+\n",
            "  (South)\n",
            "action =  🡓 \n",
            "+---------+\n",
            "|\u001b[35mR\u001b[0m: | : :G|\n",
            "| : | : : |\n",
            "| : : : : |\n",
            "| | : | : |\n",
            "|\u001b[34;1m\u001b[43mY\u001b[0m\u001b[0m| : |B: |\n",
            "+---------+\n",
            "  (South)\n",
            "action =  O \n",
            "+---------+\n",
            "|\u001b[35mR\u001b[0m: | : :G|\n",
            "| : | : : |\n",
            "| : : : : |\n",
            "| | : | : |\n",
            "|\u001b[42mY\u001b[0m| : |B: |\n",
            "+---------+\n",
            "  (Pickup)\n",
            "action =  🡑 \n",
            "+---------+\n",
            "|\u001b[35mR\u001b[0m: | : :G|\n",
            "| : | : : |\n",
            "| : : : : |\n",
            "|\u001b[42m_\u001b[0m| : | : |\n",
            "|Y| : |B: |\n",
            "+---------+\n",
            "  (North)\n",
            "action =  🡑 \n",
            "+---------+\n",
            "|\u001b[35mR\u001b[0m: | : :G|\n",
            "| : | : : |\n",
            "|\u001b[42m_\u001b[0m: : : : |\n",
            "| | : | : |\n",
            "|Y| : |B: |\n",
            "+---------+\n",
            "  (North)\n",
            "action =  🡑 \n",
            "+---------+\n",
            "|\u001b[35mR\u001b[0m: | : :G|\n",
            "|\u001b[42m_\u001b[0m: | : : |\n",
            "| : : : : |\n",
            "| | : | : |\n",
            "|Y| : |B: |\n",
            "+---------+\n",
            "  (North)\n",
            "action =  🡑 \n",
            "+---------+\n",
            "|\u001b[35m\u001b[42mR\u001b[0m\u001b[0m: | : :G|\n",
            "| : | : : |\n",
            "| : : : : |\n",
            "| | : | : |\n",
            "|Y| : |B: |\n",
            "+---------+\n",
            "  (North)\n",
            "action =  X \n",
            "+---------+\n",
            "|\u001b[35m\u001b[34;1m\u001b[43mR\u001b[0m\u001b[0m\u001b[0m: | : :G|\n",
            "| : | : : |\n",
            "| : : : : |\n",
            "| | : | : |\n",
            "|Y| : |B: |\n",
            "+---------+\n",
            "  (Dropoff)\n",
            "Full policy reward = 9\n"
          ],
          "name": "stdout"
        },
        {
          "output_type": "execute_result",
          "data": {
            "text/plain": [
              "(9, 0, None)"
            ]
          },
          "metadata": {
            "tags": []
          },
          "execution_count": 107
        }
      ]
    },
    {
      "cell_type": "markdown",
      "metadata": {
        "id": "tEgsp60clVqn"
      },
      "source": [
        "## Final Evaluation"
      ]
    },
    {
      "cell_type": "markdown",
      "metadata": {
        "id": "TSpnlRYKD7YO"
      },
      "source": [
        "- final evaluation is taken out of the training loop to avoid uncertainty caused by min epsilon\n",
        "- a curve is plotted for the running average reward of 100 episodes over 1000 episodes\n",
        "- 5th percentile and 95th percentile number is printed below the plot"
      ]
    },
    {
      "cell_type": "code",
      "metadata": {
        "colab": {
          "base_uri": "https://localhost:8080/",
          "height": 315
        },
        "id": "clt5MJPclXtQ",
        "outputId": "bb9c1a42-145d-45cd-d7d0-e76db47cbe44"
      },
      "source": [
        "avg_reward, total_bad, non_optimal_taxi, rewards = n_episodes_test_compare(policy_Q_Learning, n=1000, text=True, compare=True)\n",
        "windowed_rewards = np.convolve(rewards, np.ones(100), 'valid')\n",
        "plt.plot(windowed_rewards/100)\n",
        "plt.show()\n",
        "print(f'5th percentile = {np.quantile(windowed_rewards/100, 0.05)}')\n",
        "print(f'95th percentile = {np.quantile(windowed_rewards/100, 0.95)}')"
      ],
      "execution_count": null,
      "outputs": [
        {
          "output_type": "stream",
          "text": [
            "average reward = 7.881, bad episodes = 0, non optimal episodes = 0\n"
          ],
          "name": "stdout"
        },
        {
          "output_type": "display_data",
          "data": {
            "image/png": "[encoded data removed]",
            "text/plain": [
              "<Figure size 432x288 with 1 Axes>"
            ]
          },
          "metadata": {
            "tags": [],
            "needs_background": "light"
          }
        },
        {
          "output_type": "stream",
          "text": [
            "5th percentile = 7.34\n",
            "95th percentile = 8.57\n"
          ],
          "name": "stdout"
        }
      ]
    },
    {
      "cell_type": "markdown",
      "metadata": {
        "id": "RqNIaG2Pln7I"
      },
      "source": [
        "## Project Documents"
      ]
    },
    {
      "cell_type": "markdown",
      "metadata": {
        "id": "Be2W6aOSFf9R"
      },
      "source": [
        "- Final training code is pretty simple, there is little change from the code we used in our class. However, there were lots of tuning, trials and experiments done before getting to the final cleaned up codes.\n",
        "\n",
        "- Such experiments include:\n",
        "  - playing around with different reward structure\n",
        "  - dynamically adjusting alpha values during training process\n",
        "  - customized pretty print function for policy table\n",
        "  - step by step visual analysis of taxi actions based on trained policy table\n",
        "  - tuning and adjusting of various hyper parameters\n",
        "  - developing optimal BFS solution to verify final training results\n",
        "  - etc.\n",
        "\n",
        "- Hyper parameter selection\n",
        "  - gamma: we picked the value of 1.0, since the original reward structure has -1 for default steps, there is no need for using a gamma value smaller than 1.0. However, based on experiments, using values such as 0.9 also converged the training with similar rate\n",
        "  - n_episodes: based on experiments, the training algorithm usually converges around 3000 iterations. One thing noticed is that since we did not apply a max length limit during training, the training speed is relatively slower at the beginning with around 6 it/s; when coming close to convergence, the training speed is much faster with around 80+ it/s\n",
        "  - alpha: this is found to be the most important hyper parameter that determines the convergence of the training algorithm for the project. The picked value is mostly based on trial and error. But some very rough estimation might be something like this: if alpha=0.001, then for the return table to reach the optimal value, it needs at least 1000 iterations; also at the beginning, since return table has all 0 values, it will take much more than 1000 iterations to reach the optimal value; however, we also observed that it is not necessary for the return table to reach optimal value to generate an optimal policy table, so there is still lots of uncertainty for this estimation. One general guideline I found that might be useful (could be wrong) is to use a relatively larger alpha to quickly find the trend of convergence, then adjust it to smaller values to improve training accuray or avoid over training, etc.\n",
        "  \n",
        "- The other thought is that for static environment, maybe we can train from backwards, since the final done state always have a fixed reward, so their neighouring cell will be able to derive optimal solution much easier. It is understood that in more realistic case, environment will be more dynamic and complex, in which case training from backwards may not be feasible or may have little difference compared to normal training."
      ]
    }
  ]
}